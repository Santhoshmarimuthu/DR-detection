{
 "cells": [
  {
   "cell_type": "code",
   "execution_count": 1,
   "metadata": {},
   "outputs": [
    {
     "name": "stdout",
     "output_type": "stream",
     "text": [
      "Defaulting to user installation because normal site-packages is not writeable\n",
      "Requirement already satisfied: torch==1.13.0+cu117 in /home/santhosh/.local/lib/python3.10/site-packages (from -r /mnt/c/Users/santhosh/Downloads/MedMamba-main/MedMamba-main/requirements.txt (line 1)) (1.13.0+cu117)\n",
      "Requirement already satisfied: torchvision==0.14.0+cu117 in /home/santhosh/.local/lib/python3.10/site-packages (from -r /mnt/c/Users/santhosh/Downloads/MedMamba-main/MedMamba-main/requirements.txt (line 2)) (0.14.0+cu117)\n",
      "Requirement already satisfied: torchaudio==0.13.0+cu117 in /home/santhosh/.local/lib/python3.10/site-packages (from -r /mnt/c/Users/santhosh/Downloads/MedMamba-main/MedMamba-main/requirements.txt (line 3)) (0.13.0+cu117)\n",
      "Requirement already satisfied: packaging in /usr/lib/python3/dist-packages (from -r /mnt/c/Users/santhosh/Downloads/MedMamba-main/MedMamba-main/requirements.txt (line 4)) (24.0)\n",
      "Requirement already satisfied: timm==0.4.12 in /home/santhosh/.local/lib/python3.10/site-packages (from -r /mnt/c/Users/santhosh/Downloads/MedMamba-main/MedMamba-main/requirements.txt (line 5)) (0.4.12)\n",
      "Requirement already satisfied: pytest in /home/santhosh/.local/lib/python3.10/site-packages (from -r /mnt/c/Users/santhosh/Downloads/MedMamba-main/MedMamba-main/requirements.txt (line 6)) (8.3.4)\n",
      "Requirement already satisfied: chardet in /home/santhosh/.local/lib/python3.10/site-packages (from -r /mnt/c/Users/santhosh/Downloads/MedMamba-main/MedMamba-main/requirements.txt (line 7)) (5.2.0)\n",
      "Requirement already satisfied: yacs in /home/santhosh/.local/lib/python3.10/site-packages (from -r /mnt/c/Users/santhosh/Downloads/MedMamba-main/MedMamba-main/requirements.txt (line 8)) (0.1.8)\n",
      "Requirement already satisfied: termcolor in /home/santhosh/.local/lib/python3.10/site-packages (from -r /mnt/c/Users/santhosh/Downloads/MedMamba-main/MedMamba-main/requirements.txt (line 9)) (2.5.0)\n",
      "Requirement already satisfied: submitit in /home/santhosh/.local/lib/python3.10/site-packages (from -r /mnt/c/Users/santhosh/Downloads/MedMamba-main/MedMamba-main/requirements.txt (line 10)) (1.5.2)\n",
      "Requirement already satisfied: tensorboardX in /home/santhosh/.local/lib/python3.10/site-packages (from -r /mnt/c/Users/santhosh/Downloads/MedMamba-main/MedMamba-main/requirements.txt (line 11)) (2.6.2.2)\n",
      "Requirement already satisfied: triton==2.0.0 in /home/santhosh/.local/lib/python3.10/site-packages (from -r /mnt/c/Users/santhosh/Downloads/MedMamba-main/MedMamba-main/requirements.txt (line 12)) (2.0.0)\n",
      "Requirement already satisfied: causal_conv1d==1.0.0 in /home/santhosh/.local/lib/python3.10/site-packages (from -r /mnt/c/Users/santhosh/Downloads/MedMamba-main/MedMamba-main/requirements.txt (line 13)) (1.0.0)\n",
      "Requirement already satisfied: mamba_ssm==1.0.1 in /home/santhosh/.local/lib/python3.10/site-packages (from -r /mnt/c/Users/santhosh/Downloads/MedMamba-main/MedMamba-main/requirements.txt (line 14)) (1.0.1)\n",
      "Requirement already satisfied: scikit-learn in /home/santhosh/.local/lib/python3.10/site-packages (from -r /mnt/c/Users/santhosh/Downloads/MedMamba-main/MedMamba-main/requirements.txt (line 15)) (1.6.0)\n",
      "Requirement already satisfied: matplotlib in /home/santhosh/.local/lib/python3.10/site-packages (from -r /mnt/c/Users/santhosh/Downloads/MedMamba-main/MedMamba-main/requirements.txt (line 16)) (3.10.0)\n",
      "Requirement already satisfied: thop in /home/santhosh/.local/lib/python3.10/site-packages (from -r /mnt/c/Users/santhosh/Downloads/MedMamba-main/MedMamba-main/requirements.txt (line 17)) (0.1.1.post2209072238)\n",
      "Requirement already satisfied: h5py in /home/santhosh/.local/lib/python3.10/site-packages (from -r /mnt/c/Users/santhosh/Downloads/MedMamba-main/MedMamba-main/requirements.txt (line 18)) (3.12.1)\n",
      "Requirement already satisfied: SimpleITK in /home/santhosh/.local/lib/python3.10/site-packages (from -r /mnt/c/Users/santhosh/Downloads/MedMamba-main/MedMamba-main/requirements.txt (line 19)) (2.4.0)\n",
      "Requirement already satisfied: scikit-image in /home/santhosh/.local/lib/python3.10/site-packages (from -r /mnt/c/Users/santhosh/Downloads/MedMamba-main/MedMamba-main/requirements.txt (line 20)) (0.25.0)\n",
      "Requirement already satisfied: medpy in /home/santhosh/.local/lib/python3.10/site-packages (from -r /mnt/c/Users/santhosh/Downloads/MedMamba-main/MedMamba-main/requirements.txt (line 21)) (0.5.2)\n",
      "Requirement already satisfied: typing-extensions in /home/santhosh/.local/lib/python3.10/site-packages (from torch==1.13.0+cu117->-r /mnt/c/Users/santhosh/Downloads/MedMamba-main/MedMamba-main/requirements.txt (line 1)) (4.9.0)\n",
      "Requirement already satisfied: numpy in /home/santhosh/.local/lib/python3.10/site-packages (from torchvision==0.14.0+cu117->-r /mnt/c/Users/santhosh/Downloads/MedMamba-main/MedMamba-main/requirements.txt (line 2)) (1.26.3)\n",
      "Requirement already satisfied: requests in /home/santhosh/.local/lib/python3.10/site-packages (from torchvision==0.14.0+cu117->-r /mnt/c/Users/santhosh/Downloads/MedMamba-main/MedMamba-main/requirements.txt (line 2)) (2.28.1)\n",
      "Requirement already satisfied: pillow!=8.3.*,>=5.3.0 in /home/santhosh/.local/lib/python3.10/site-packages (from torchvision==0.14.0+cu117->-r /mnt/c/Users/santhosh/Downloads/MedMamba-main/MedMamba-main/requirements.txt (line 2)) (10.2.0)\n",
      "Requirement already satisfied: cmake in /home/santhosh/.local/lib/python3.10/site-packages (from triton==2.0.0->-r /mnt/c/Users/santhosh/Downloads/MedMamba-main/MedMamba-main/requirements.txt (line 12)) (3.31.2)\n",
      "Requirement already satisfied: filelock in /home/santhosh/.local/lib/python3.10/site-packages (from triton==2.0.0->-r /mnt/c/Users/santhosh/Downloads/MedMamba-main/MedMamba-main/requirements.txt (line 12)) (3.16.1)\n",
      "Requirement already satisfied: lit in /home/santhosh/.local/lib/python3.10/site-packages (from triton==2.0.0->-r /mnt/c/Users/santhosh/Downloads/MedMamba-main/MedMamba-main/requirements.txt (line 12)) (18.1.8)\n",
      "Requirement already satisfied: ninja in /home/santhosh/.local/lib/python3.10/site-packages (from causal_conv1d==1.0.0->-r /mnt/c/Users/santhosh/Downloads/MedMamba-main/MedMamba-main/requirements.txt (line 13)) (1.11.1.3)\n",
      "Requirement already satisfied: einops in /home/santhosh/.local/lib/python3.10/site-packages (from mamba_ssm==1.0.1->-r /mnt/c/Users/santhosh/Downloads/MedMamba-main/MedMamba-main/requirements.txt (line 14)) (0.8.0)\n",
      "Requirement already satisfied: transformers in /home/santhosh/.local/lib/python3.10/site-packages (from mamba_ssm==1.0.1->-r /mnt/c/Users/santhosh/Downloads/MedMamba-main/MedMamba-main/requirements.txt (line 14)) (4.47.1)\n",
      "Requirement already satisfied: exceptiongroup>=1.0.0rc8 in /home/santhosh/.local/lib/python3.10/site-packages (from pytest->-r /mnt/c/Users/santhosh/Downloads/MedMamba-main/MedMamba-main/requirements.txt (line 6)) (1.2.2)\n",
      "Requirement already satisfied: iniconfig in /home/santhosh/.local/lib/python3.10/site-packages (from pytest->-r /mnt/c/Users/santhosh/Downloads/MedMamba-main/MedMamba-main/requirements.txt (line 6)) (2.0.0)\n",
      "Requirement already satisfied: pluggy<2,>=1.5 in /home/santhosh/.local/lib/python3.10/site-packages (from pytest->-r /mnt/c/Users/santhosh/Downloads/MedMamba-main/MedMamba-main/requirements.txt (line 6)) (1.5.0)\n",
      "Requirement already satisfied: tomli>=1 in /home/santhosh/.local/lib/python3.10/site-packages (from pytest->-r /mnt/c/Users/santhosh/Downloads/MedMamba-main/MedMamba-main/requirements.txt (line 6)) (2.2.1)\n",
      "Requirement already satisfied: PyYAML in /home/santhosh/.local/lib/python3.10/site-packages (from yacs->-r /mnt/c/Users/santhosh/Downloads/MedMamba-main/MedMamba-main/requirements.txt (line 8)) (6.0.2)\n",
      "Requirement already satisfied: cloudpickle>=1.2.1 in /home/santhosh/.local/lib/python3.10/site-packages (from submitit->-r /mnt/c/Users/santhosh/Downloads/MedMamba-main/MedMamba-main/requirements.txt (line 10)) (3.1.0)\n",
      "Requirement already satisfied: protobuf>=3.20 in /home/santhosh/.local/lib/python3.10/site-packages (from tensorboardX->-r /mnt/c/Users/santhosh/Downloads/MedMamba-main/MedMamba-main/requirements.txt (line 11)) (5.29.2)\n",
      "Requirement already satisfied: scipy>=1.6.0 in /home/santhosh/.local/lib/python3.10/site-packages (from scikit-learn->-r /mnt/c/Users/santhosh/Downloads/MedMamba-main/MedMamba-main/requirements.txt (line 15)) (1.14.1)\n",
      "Requirement already satisfied: joblib>=1.2.0 in /home/santhosh/.local/lib/python3.10/site-packages (from scikit-learn->-r /mnt/c/Users/santhosh/Downloads/MedMamba-main/MedMamba-main/requirements.txt (line 15)) (1.4.2)\n",
      "Requirement already satisfied: threadpoolctl>=3.1.0 in /home/santhosh/.local/lib/python3.10/site-packages (from scikit-learn->-r /mnt/c/Users/santhosh/Downloads/MedMamba-main/MedMamba-main/requirements.txt (line 15)) (3.5.0)\n",
      "Requirement already satisfied: contourpy>=1.0.1 in /home/santhosh/.local/lib/python3.10/site-packages (from matplotlib->-r /mnt/c/Users/santhosh/Downloads/MedMamba-main/MedMamba-main/requirements.txt (line 16)) (1.3.1)\n",
      "Requirement already satisfied: cycler>=0.10 in /home/santhosh/.local/lib/python3.10/site-packages (from matplotlib->-r /mnt/c/Users/santhosh/Downloads/MedMamba-main/MedMamba-main/requirements.txt (line 16)) (0.12.1)\n",
      "Requirement already satisfied: fonttools>=4.22.0 in /home/santhosh/.local/lib/python3.10/site-packages (from matplotlib->-r /mnt/c/Users/santhosh/Downloads/MedMamba-main/MedMamba-main/requirements.txt (line 16)) (4.55.3)\n",
      "Requirement already satisfied: kiwisolver>=1.3.1 in /home/santhosh/.local/lib/python3.10/site-packages (from matplotlib->-r /mnt/c/Users/santhosh/Downloads/MedMamba-main/MedMamba-main/requirements.txt (line 16)) (1.4.8)\n",
      "Requirement already satisfied: pyparsing>=2.3.1 in /usr/lib/python3/dist-packages (from matplotlib->-r /mnt/c/Users/santhosh/Downloads/MedMamba-main/MedMamba-main/requirements.txt (line 16)) (3.1.1)\n",
      "Requirement already satisfied: python-dateutil>=2.7 in /home/santhosh/.local/lib/python3.10/site-packages (from matplotlib->-r /mnt/c/Users/santhosh/Downloads/MedMamba-main/MedMamba-main/requirements.txt (line 16)) (2.9.0.post0)\n",
      "Requirement already satisfied: networkx>=3.0 in /home/santhosh/.local/lib/python3.10/site-packages (from scikit-image->-r /mnt/c/Users/santhosh/Downloads/MedMamba-main/MedMamba-main/requirements.txt (line 20)) (3.4.2)\n",
      "Requirement already satisfied: imageio!=2.35.0,>=2.33 in /home/santhosh/.local/lib/python3.10/site-packages (from scikit-image->-r /mnt/c/Users/santhosh/Downloads/MedMamba-main/MedMamba-main/requirements.txt (line 20)) (2.36.1)\n",
      "Requirement already satisfied: tifffile>=2022.8.12 in /home/santhosh/.local/lib/python3.10/site-packages (from scikit-image->-r /mnt/c/Users/santhosh/Downloads/MedMamba-main/MedMamba-main/requirements.txt (line 20)) (2024.12.12)\n",
      "Requirement already satisfied: lazy-loader>=0.4 in /home/santhosh/.local/lib/python3.10/site-packages (from scikit-image->-r /mnt/c/Users/santhosh/Downloads/MedMamba-main/MedMamba-main/requirements.txt (line 20)) (0.4)\n",
      "Requirement already satisfied: six>=1.5 in /home/santhosh/.local/lib/python3.10/site-packages (from python-dateutil>=2.7->matplotlib->-r /mnt/c/Users/santhosh/Downloads/MedMamba-main/MedMamba-main/requirements.txt (line 16)) (1.17.0)\n",
      "Requirement already satisfied: charset-normalizer<3,>=2 in /home/santhosh/.local/lib/python3.10/site-packages (from requests->torchvision==0.14.0+cu117->-r /mnt/c/Users/santhosh/Downloads/MedMamba-main/MedMamba-main/requirements.txt (line 2)) (2.1.1)\n",
      "Requirement already satisfied: idna<4,>=2.5 in /home/santhosh/.local/lib/python3.10/site-packages (from requests->torchvision==0.14.0+cu117->-r /mnt/c/Users/santhosh/Downloads/MedMamba-main/MedMamba-main/requirements.txt (line 2)) (3.4)\n",
      "Requirement already satisfied: urllib3<1.27,>=1.21.1 in /home/santhosh/.local/lib/python3.10/site-packages (from requests->torchvision==0.14.0+cu117->-r /mnt/c/Users/santhosh/Downloads/MedMamba-main/MedMamba-main/requirements.txt (line 2)) (1.26.13)\n",
      "Requirement already satisfied: certifi>=2017.4.17 in /home/santhosh/.local/lib/python3.10/site-packages (from requests->torchvision==0.14.0+cu117->-r /mnt/c/Users/santhosh/Downloads/MedMamba-main/MedMamba-main/requirements.txt (line 2)) (2022.12.7)\n",
      "Requirement already satisfied: huggingface-hub<1.0,>=0.24.0 in /home/santhosh/.local/lib/python3.10/site-packages (from transformers->mamba_ssm==1.0.1->-r /mnt/c/Users/santhosh/Downloads/MedMamba-main/MedMamba-main/requirements.txt (line 14)) (0.27.0)\n",
      "Requirement already satisfied: regex!=2019.12.17 in /home/santhosh/.local/lib/python3.10/site-packages (from transformers->mamba_ssm==1.0.1->-r /mnt/c/Users/santhosh/Downloads/MedMamba-main/MedMamba-main/requirements.txt (line 14)) (2024.11.6)\n",
      "Requirement already satisfied: tokenizers<0.22,>=0.21 in /home/santhosh/.local/lib/python3.10/site-packages (from transformers->mamba_ssm==1.0.1->-r /mnt/c/Users/santhosh/Downloads/MedMamba-main/MedMamba-main/requirements.txt (line 14)) (0.21.0)\n",
      "Requirement already satisfied: safetensors>=0.4.1 in /home/santhosh/.local/lib/python3.10/site-packages (from transformers->mamba_ssm==1.0.1->-r /mnt/c/Users/santhosh/Downloads/MedMamba-main/MedMamba-main/requirements.txt (line 14)) (0.4.5)\n",
      "Requirement already satisfied: tqdm>=4.27 in /home/santhosh/.local/lib/python3.10/site-packages (from transformers->mamba_ssm==1.0.1->-r /mnt/c/Users/santhosh/Downloads/MedMamba-main/MedMamba-main/requirements.txt (line 14)) (4.67.1)\n",
      "Requirement already satisfied: fsspec>=2023.5.0 in /home/santhosh/.local/lib/python3.10/site-packages (from huggingface-hub<1.0,>=0.24.0->transformers->mamba_ssm==1.0.1->-r /mnt/c/Users/santhosh/Downloads/MedMamba-main/MedMamba-main/requirements.txt (line 14)) (2024.12.0)\n"
     ]
    }
   ],
   "source": [
    "!pip install -r /mnt/c/Users/santhosh/Downloads/MedMamba-main/MedMamba-main/requirements.txt\n"
   ]
  },
  {
   "cell_type": "code",
   "execution_count": 14,
   "metadata": {},
   "outputs": [
    {
     "name": "stdout",
     "output_type": "stream",
     "text": [
      "Cloning into 'MedMamba'...\n",
      "remote: Enumerating objects: 127, done.\u001b[K\n",
      "remote: Counting objects: 100% (123/123), done.\u001b[K\n",
      "remote: Compressing objects: 100% (94/94), done.\u001b[K\n",
      "remote: Total 127 (delta 53), reused 90 (delta 28), pack-reused 4 (from 1)\u001b[K\n",
      "Receiving objects: 100% (127/127), 353.24 KiB | 2.44 MiB/s, done.\n",
      "Resolving deltas: 100% (53/53), done.\n"
     ]
    }
   ],
   "source": [
    "!git clone https://github.com/YubiaoYue/MedMamba.git"
   ]
  },
  {
   "cell_type": "code",
   "execution_count": 19,
   "metadata": {},
   "outputs": [],
   "source": [
    "import os\n",
    "os.chdir('/mnt/c/Users/santhosh/Downloads/MedMamba-main/MedMamba-main/MedMambagit') "
   ]
  },
  {
   "cell_type": "code",
   "execution_count": 20,
   "metadata": {},
   "outputs": [],
   "source": [
    "import sys\n",
    "\n",
    "sys.path.append('/mnt/c/Users/santhosh/Downloads/MedMamba-main/MedMamba-main/MedMambagit')"
   ]
  },
  {
   "cell_type": "code",
   "execution_count": 21,
   "metadata": {},
   "outputs": [],
   "source": [
    "import MedMamba"
   ]
  },
  {
   "cell_type": "code",
   "execution_count": 19,
   "metadata": {},
   "outputs": [
    {
     "name": "stdout",
     "output_type": "stream",
     "text": [
      "torch.Size([1, 6])\n",
      "using cuda:0 device.\n",
      "Using 8 dataloader workers every process\n",
      "using 3656 images for training, 3656 images for validation.\n",
      "train epoch[1/100] loss:1.883: 100%|██████████| 115/115 [02:14<00:00,  1.17s/it]\n",
      "100%|██████████| 115/115 [00:26<00:00,  4.29it/s]\n",
      "[epoch 1] train_loss: 1.309  val_loss: 1.158  val_accuracy: 0.520  precision: 0.408  recall: 0.520  f1: 0.388\n"
     ]
    },
    {
     "name": "stderr",
     "output_type": "stream",
     "text": [
      "/home/santhosh/.local/lib/python3.10/site-packages/sklearn/metrics/_classification.py:1565: UndefinedMetricWarning: Precision is ill-defined and being set to 0.0 in labels with no predicted samples. Use `zero_division` parameter to control this behavior.\n",
      "  _warn_prf(average, modifier, f\"{metric.capitalize()} is\", len(result))\n"
     ]
    },
    {
     "name": "stdout",
     "output_type": "stream",
     "text": [
      "train epoch[2/100] loss:1.703: 100%|██████████| 115/115 [02:12<00:00,  1.15s/it]\n",
      "100%|██████████| 115/115 [00:26<00:00,  4.33it/s]\n",
      "[epoch 2] train_loss: 1.204  val_loss: 0.999  val_accuracy: 0.647  precision: 0.519  recall: 0.647  f1: 0.567\n"
     ]
    },
    {
     "name": "stderr",
     "output_type": "stream",
     "text": [
      "/home/santhosh/.local/lib/python3.10/site-packages/sklearn/metrics/_classification.py:1565: UndefinedMetricWarning: Precision is ill-defined and being set to 0.0 in labels with no predicted samples. Use `zero_division` parameter to control this behavior.\n",
      "  _warn_prf(average, modifier, f\"{metric.capitalize()} is\", len(result))\n"
     ]
    },
    {
     "name": "stdout",
     "output_type": "stream",
     "text": [
      "train epoch[3/100] loss:0.743: 100%|██████████| 115/115 [02:12<00:00,  1.15s/it]\n",
      "100%|██████████| 115/115 [00:26<00:00,  4.35it/s]\n",
      "[epoch 3] train_loss: 1.116  val_loss: 0.954  val_accuracy: 0.675  precision: 0.520  recall: 0.675  f1: 0.587\n"
     ]
    },
    {
     "name": "stderr",
     "output_type": "stream",
     "text": [
      "/home/santhosh/.local/lib/python3.10/site-packages/sklearn/metrics/_classification.py:1565: UndefinedMetricWarning: Precision is ill-defined and being set to 0.0 in labels with no predicted samples. Use `zero_division` parameter to control this behavior.\n",
      "  _warn_prf(average, modifier, f\"{metric.capitalize()} is\", len(result))\n"
     ]
    },
    {
     "name": "stdout",
     "output_type": "stream",
     "text": [
      "train epoch[4/100] loss:0.968: 100%|██████████| 115/115 [02:10<00:00,  1.13s/it]\n",
      "100%|██████████| 115/115 [00:26<00:00,  4.28it/s]\n",
      "[epoch 4] train_loss: 1.085  val_loss: 0.860  val_accuracy: 0.685  precision: 0.667  recall: 0.685  f1: 0.611\n"
     ]
    },
    {
     "name": "stderr",
     "output_type": "stream",
     "text": [
      "/home/santhosh/.local/lib/python3.10/site-packages/sklearn/metrics/_classification.py:1565: UndefinedMetricWarning: Precision is ill-defined and being set to 0.0 in labels with no predicted samples. Use `zero_division` parameter to control this behavior.\n",
      "  _warn_prf(average, modifier, f\"{metric.capitalize()} is\", len(result))\n"
     ]
    },
    {
     "name": "stdout",
     "output_type": "stream",
     "text": [
      "train epoch[5/100] loss:2.730: 100%|██████████| 115/115 [02:11<00:00,  1.15s/it]\n",
      "100%|██████████| 115/115 [00:26<00:00,  4.27it/s]"
     ]
    },
    {
     "name": "stderr",
     "output_type": "stream",
     "text": [
      "/home/santhosh/.local/lib/python3.10/site-packages/sklearn/metrics/_classification.py:1565: UndefinedMetricWarning: Precision is ill-defined and being set to 0.0 in labels with no predicted samples. Use `zero_division` parameter to control this behavior.\n",
      "  _warn_prf(average, modifier, f\"{metric.capitalize()} is\", len(result))\n"
     ]
    },
    {
     "name": "stdout",
     "output_type": "stream",
     "text": [
      "\n",
      "[epoch 5] train_loss: 1.040  val_loss: 0.878  val_accuracy: 0.675  precision: 0.590  recall: 0.675  f1: 0.609\n",
      "train epoch[6/100] loss:0.973: 100%|██████████| 115/115 [02:12<00:00,  1.15s/it]\n",
      "100%|██████████| 115/115 [00:26<00:00,  4.31it/s]"
     ]
    },
    {
     "name": "stderr",
     "output_type": "stream",
     "text": [
      "/home/santhosh/.local/lib/python3.10/site-packages/sklearn/metrics/_classification.py:1565: UndefinedMetricWarning: Precision is ill-defined and being set to 0.0 in labels with no predicted samples. Use `zero_division` parameter to control this behavior.\n",
      "  _warn_prf(average, modifier, f\"{metric.capitalize()} is\", len(result))\n"
     ]
    },
    {
     "name": "stdout",
     "output_type": "stream",
     "text": [
      "\n",
      "[epoch 6] train_loss: 1.043  val_loss: 1.054  val_accuracy: 0.643  precision: 0.535  recall: 0.643  f1: 0.582\n",
      "train epoch[7/100] loss:0.629: 100%|██████████| 115/115 [02:10<00:00,  1.13s/it]\n",
      "100%|██████████| 115/115 [00:28<00:00,  3.99it/s]\n",
      "[epoch 7] train_loss: 1.011  val_loss: 0.863  val_accuracy: 0.714  precision: 0.584  recall: 0.714  f1: 0.634\n"
     ]
    },
    {
     "name": "stderr",
     "output_type": "stream",
     "text": [
      "/home/santhosh/.local/lib/python3.10/site-packages/sklearn/metrics/_classification.py:1565: UndefinedMetricWarning: Precision is ill-defined and being set to 0.0 in labels with no predicted samples. Use `zero_division` parameter to control this behavior.\n",
      "  _warn_prf(average, modifier, f\"{metric.capitalize()} is\", len(result))\n"
     ]
    },
    {
     "name": "stdout",
     "output_type": "stream",
     "text": [
      "train epoch[8/100] loss:0.763: 100%|██████████| 115/115 [02:10<00:00,  1.13s/it]\n",
      "100%|██████████| 115/115 [00:26<00:00,  4.28it/s]"
     ]
    },
    {
     "name": "stderr",
     "output_type": "stream",
     "text": [
      "/home/santhosh/.local/lib/python3.10/site-packages/sklearn/metrics/_classification.py:1565: UndefinedMetricWarning: Precision is ill-defined and being set to 0.0 in labels with no predicted samples. Use `zero_division` parameter to control this behavior.\n",
      "  _warn_prf(average, modifier, f\"{metric.capitalize()} is\", len(result))\n"
     ]
    },
    {
     "name": "stdout",
     "output_type": "stream",
     "text": [
      "\n",
      "[epoch 8] train_loss: 1.003  val_loss: 0.845  val_accuracy: 0.696  precision: 0.614  recall: 0.696  f1: 0.616\n",
      "train epoch[9/100] loss:0.481: 100%|██████████| 115/115 [02:11<00:00,  1.15s/it]\n",
      "100%|██████████| 115/115 [00:26<00:00,  4.29it/s]"
     ]
    },
    {
     "name": "stderr",
     "output_type": "stream",
     "text": [
      "/home/santhosh/.local/lib/python3.10/site-packages/sklearn/metrics/_classification.py:1565: UndefinedMetricWarning: Precision is ill-defined and being set to 0.0 in labels with no predicted samples. Use `zero_division` parameter to control this behavior.\n",
      "  _warn_prf(average, modifier, f\"{metric.capitalize()} is\", len(result))\n"
     ]
    },
    {
     "name": "stdout",
     "output_type": "stream",
     "text": [
      "\n",
      "[epoch 9] train_loss: 0.988  val_loss: 0.870  val_accuracy: 0.711  precision: 0.579  recall: 0.711  f1: 0.631\n",
      "train epoch[10/100] loss:1.221: 100%|██████████| 115/115 [02:12<00:00,  1.16s/it]\n",
      "100%|██████████| 115/115 [00:26<00:00,  4.30it/s]\n",
      "[epoch 10] train_loss: 0.969  val_loss: 0.810  val_accuracy: 0.720  precision: 0.581  recall: 0.720  f1: 0.637\n"
     ]
    },
    {
     "name": "stderr",
     "output_type": "stream",
     "text": [
      "/home/santhosh/.local/lib/python3.10/site-packages/sklearn/metrics/_classification.py:1565: UndefinedMetricWarning: Precision is ill-defined and being set to 0.0 in labels with no predicted samples. Use `zero_division` parameter to control this behavior.\n",
      "  _warn_prf(average, modifier, f\"{metric.capitalize()} is\", len(result))\n"
     ]
    },
    {
     "name": "stdout",
     "output_type": "stream",
     "text": [
      "train epoch[11/100] loss:1.054: 100%|██████████| 115/115 [02:10<00:00,  1.13s/it]\n",
      "100%|██████████| 115/115 [00:26<00:00,  4.31it/s]"
     ]
    },
    {
     "name": "stderr",
     "output_type": "stream",
     "text": [
      "/home/santhosh/.local/lib/python3.10/site-packages/sklearn/metrics/_classification.py:1565: UndefinedMetricWarning: Precision is ill-defined and being set to 0.0 in labels with no predicted samples. Use `zero_division` parameter to control this behavior.\n",
      "  _warn_prf(average, modifier, f\"{metric.capitalize()} is\", len(result))\n"
     ]
    },
    {
     "name": "stdout",
     "output_type": "stream",
     "text": [
      "\n",
      "[epoch 11] train_loss: 0.943  val_loss: 0.839  val_accuracy: 0.719  precision: 0.580  recall: 0.719  f1: 0.636\n",
      "train epoch[12/100] loss:0.884: 100%|██████████| 115/115 [02:12<00:00,  1.15s/it]\n",
      "100%|██████████| 115/115 [00:26<00:00,  4.29it/s]"
     ]
    },
    {
     "name": "stderr",
     "output_type": "stream",
     "text": [
      "/home/santhosh/.local/lib/python3.10/site-packages/sklearn/metrics/_classification.py:1565: UndefinedMetricWarning: Precision is ill-defined and being set to 0.0 in labels with no predicted samples. Use `zero_division` parameter to control this behavior.\n",
      "  _warn_prf(average, modifier, f\"{metric.capitalize()} is\", len(result))\n"
     ]
    },
    {
     "name": "stdout",
     "output_type": "stream",
     "text": [
      "\n",
      "[epoch 12] train_loss: 0.921  val_loss: 0.825  val_accuracy: 0.719  precision: 0.580  recall: 0.719  f1: 0.636\n",
      "train epoch[13/100] loss:1.051: 100%|██████████| 115/115 [02:12<00:00,  1.15s/it]\n",
      "100%|██████████| 115/115 [00:26<00:00,  4.33it/s]\n",
      "[epoch 13] train_loss: 0.914  val_loss: 0.839  val_accuracy: 0.721  precision: 0.581  recall: 0.721  f1: 0.637\n"
     ]
    },
    {
     "name": "stderr",
     "output_type": "stream",
     "text": [
      "/home/santhosh/.local/lib/python3.10/site-packages/sklearn/metrics/_classification.py:1565: UndefinedMetricWarning: Precision is ill-defined and being set to 0.0 in labels with no predicted samples. Use `zero_division` parameter to control this behavior.\n",
      "  _warn_prf(average, modifier, f\"{metric.capitalize()} is\", len(result))\n"
     ]
    },
    {
     "name": "stdout",
     "output_type": "stream",
     "text": [
      "train epoch[14/100] loss:0.595: 100%|██████████| 115/115 [02:09<00:00,  1.13s/it]\n",
      "100%|██████████| 115/115 [00:29<00:00,  3.93it/s]"
     ]
    },
    {
     "name": "stderr",
     "output_type": "stream",
     "text": [
      "/home/santhosh/.local/lib/python3.10/site-packages/sklearn/metrics/_classification.py:1565: UndefinedMetricWarning: Precision is ill-defined and being set to 0.0 in labels with no predicted samples. Use `zero_division` parameter to control this behavior.\n",
      "  _warn_prf(average, modifier, f\"{metric.capitalize()} is\", len(result))\n"
     ]
    },
    {
     "name": "stdout",
     "output_type": "stream",
     "text": [
      "\n",
      "[epoch 14] train_loss: 0.917  val_loss: 0.831  val_accuracy: 0.718  precision: 0.574  recall: 0.718  f1: 0.634\n",
      "train epoch[15/100] loss:1.326: 100%|██████████| 115/115 [02:09<00:00,  1.13s/it]\n",
      "100%|██████████| 115/115 [00:26<00:00,  4.30it/s]\n",
      "[epoch 15] train_loss: 0.909  val_loss: 0.818  val_accuracy: 0.722  precision: 0.584  recall: 0.722  f1: 0.639\n"
     ]
    },
    {
     "name": "stderr",
     "output_type": "stream",
     "text": [
      "/home/santhosh/.local/lib/python3.10/site-packages/sklearn/metrics/_classification.py:1565: UndefinedMetricWarning: Precision is ill-defined and being set to 0.0 in labels with no predicted samples. Use `zero_division` parameter to control this behavior.\n",
      "  _warn_prf(average, modifier, f\"{metric.capitalize()} is\", len(result))\n"
     ]
    },
    {
     "name": "stdout",
     "output_type": "stream",
     "text": [
      "train epoch[16/100] loss:0.639: 100%|██████████| 115/115 [02:12<00:00,  1.15s/it]\n",
      "100%|██████████| 115/115 [00:26<00:00,  4.33it/s]"
     ]
    },
    {
     "name": "stderr",
     "output_type": "stream",
     "text": [
      "/home/santhosh/.local/lib/python3.10/site-packages/sklearn/metrics/_classification.py:1565: UndefinedMetricWarning: Precision is ill-defined and being set to 0.0 in labels with no predicted samples. Use `zero_division` parameter to control this behavior.\n",
      "  _warn_prf(average, modifier, f\"{metric.capitalize()} is\", len(result))\n"
     ]
    },
    {
     "name": "stdout",
     "output_type": "stream",
     "text": [
      "\n",
      "[epoch 16] train_loss: 0.900  val_loss: 0.819  val_accuracy: 0.721  precision: 0.584  recall: 0.721  f1: 0.639\n",
      "train epoch[17/100] loss:0.816: 100%|██████████| 115/115 [02:09<00:00,  1.13s/it]\n",
      "100%|██████████| 115/115 [00:29<00:00,  3.93it/s]"
     ]
    },
    {
     "name": "stderr",
     "output_type": "stream",
     "text": [
      "/home/santhosh/.local/lib/python3.10/site-packages/sklearn/metrics/_classification.py:1565: UndefinedMetricWarning: Precision is ill-defined and being set to 0.0 in labels with no predicted samples. Use `zero_division` parameter to control this behavior.\n",
      "  _warn_prf(average, modifier, f\"{metric.capitalize()} is\", len(result))\n"
     ]
    },
    {
     "name": "stdout",
     "output_type": "stream",
     "text": [
      "\n",
      "[epoch 17] train_loss: 0.907  val_loss: 0.830  val_accuracy: 0.721  precision: 0.581  recall: 0.721  f1: 0.637\n",
      "train epoch[18/100] loss:1.141: 100%|██████████| 115/115 [02:09<00:00,  1.13s/it]\n",
      "100%|██████████| 115/115 [00:26<00:00,  4.29it/s]"
     ]
    },
    {
     "name": "stderr",
     "output_type": "stream",
     "text": [
      "/home/santhosh/.local/lib/python3.10/site-packages/sklearn/metrics/_classification.py:1565: UndefinedMetricWarning: Precision is ill-defined and being set to 0.0 in labels with no predicted samples. Use `zero_division` parameter to control this behavior.\n",
      "  _warn_prf(average, modifier, f\"{metric.capitalize()} is\", len(result))\n"
     ]
    },
    {
     "name": "stdout",
     "output_type": "stream",
     "text": [
      "\n",
      "[epoch 18] train_loss: 0.906  val_loss: 0.821  val_accuracy: 0.721  precision: 0.582  recall: 0.721  f1: 0.638\n",
      "train epoch[19/100] loss:1.752: 100%|██████████| 115/115 [02:12<00:00,  1.15s/it]\n",
      "100%|██████████| 115/115 [00:26<00:00,  4.29it/s]\n",
      "[epoch 19] train_loss: 0.912  val_loss: 0.817  val_accuracy: 0.722  precision: 0.585  recall: 0.722  f1: 0.640\n"
     ]
    },
    {
     "name": "stderr",
     "output_type": "stream",
     "text": [
      "/home/santhosh/.local/lib/python3.10/site-packages/sklearn/metrics/_classification.py:1565: UndefinedMetricWarning: Precision is ill-defined and being set to 0.0 in labels with no predicted samples. Use `zero_division` parameter to control this behavior.\n",
      "  _warn_prf(average, modifier, f\"{metric.capitalize()} is\", len(result))\n"
     ]
    },
    {
     "name": "stdout",
     "output_type": "stream",
     "text": [
      "train epoch[20/100] loss:1.136: 100%|██████████| 115/115 [02:09<00:00,  1.13s/it]\n",
      "100%|██████████| 115/115 [00:29<00:00,  3.92it/s]\n",
      "[epoch 20] train_loss: 0.903  val_loss: 0.806  val_accuracy: 0.723  precision: 0.585  recall: 0.723  f1: 0.640\n"
     ]
    },
    {
     "name": "stderr",
     "output_type": "stream",
     "text": [
      "/home/santhosh/.local/lib/python3.10/site-packages/sklearn/metrics/_classification.py:1565: UndefinedMetricWarning: Precision is ill-defined and being set to 0.0 in labels with no predicted samples. Use `zero_division` parameter to control this behavior.\n",
      "  _warn_prf(average, modifier, f\"{metric.capitalize()} is\", len(result))\n"
     ]
    },
    {
     "name": "stdout",
     "output_type": "stream",
     "text": [
      "train epoch[21/100] loss:1.116: 100%|██████████| 115/115 [02:09<00:00,  1.13s/it]\n",
      "100%|██████████| 115/115 [00:26<00:00,  4.30it/s]"
     ]
    },
    {
     "name": "stderr",
     "output_type": "stream",
     "text": [
      "/home/santhosh/.local/lib/python3.10/site-packages/sklearn/metrics/_classification.py:1565: UndefinedMetricWarning: Precision is ill-defined and being set to 0.0 in labels with no predicted samples. Use `zero_division` parameter to control this behavior.\n",
      "  _warn_prf(average, modifier, f\"{metric.capitalize()} is\", len(result))\n"
     ]
    },
    {
     "name": "stdout",
     "output_type": "stream",
     "text": [
      "\n",
      "[epoch 21] train_loss: 0.906  val_loss: 0.815  val_accuracy: 0.722  precision: 0.587  recall: 0.722  f1: 0.640\n",
      "train epoch[22/100] loss:0.851: 100%|██████████| 115/115 [02:12<00:00,  1.15s/it]\n",
      "100%|██████████| 115/115 [00:26<00:00,  4.33it/s]"
     ]
    },
    {
     "name": "stderr",
     "output_type": "stream",
     "text": [
      "/home/santhosh/.local/lib/python3.10/site-packages/sklearn/metrics/_classification.py:1565: UndefinedMetricWarning: Precision is ill-defined and being set to 0.0 in labels with no predicted samples. Use `zero_division` parameter to control this behavior.\n",
      "  _warn_prf(average, modifier, f\"{metric.capitalize()} is\", len(result))\n"
     ]
    },
    {
     "name": "stdout",
     "output_type": "stream",
     "text": [
      "\n",
      "[epoch 22] train_loss: 0.880  val_loss: 0.819  val_accuracy: 0.722  precision: 0.583  recall: 0.722  f1: 0.639\n",
      "train epoch[23/100] loss:0.745: 100%|██████████| 115/115 [02:09<00:00,  1.13s/it]\n",
      "100%|██████████| 115/115 [00:29<00:00,  3.94it/s]"
     ]
    },
    {
     "name": "stderr",
     "output_type": "stream",
     "text": [
      "/home/santhosh/.local/lib/python3.10/site-packages/sklearn/metrics/_classification.py:1565: UndefinedMetricWarning: Precision is ill-defined and being set to 0.0 in labels with no predicted samples. Use `zero_division` parameter to control this behavior.\n",
      "  _warn_prf(average, modifier, f\"{metric.capitalize()} is\", len(result))\n"
     ]
    },
    {
     "name": "stdout",
     "output_type": "stream",
     "text": [
      "\n",
      "[epoch 23] train_loss: 0.884  val_loss: 0.826  val_accuracy: 0.722  precision: 0.583  recall: 0.722  f1: 0.639\n",
      "train epoch[24/100] loss:0.889: 100%|██████████| 115/115 [02:09<00:00,  1.13s/it]\n",
      "100%|██████████| 115/115 [00:26<00:00,  4.31it/s]"
     ]
    },
    {
     "name": "stderr",
     "output_type": "stream",
     "text": [
      "/home/santhosh/.local/lib/python3.10/site-packages/sklearn/metrics/_classification.py:1565: UndefinedMetricWarning: Precision is ill-defined and being set to 0.0 in labels with no predicted samples. Use `zero_division` parameter to control this behavior.\n",
      "  _warn_prf(average, modifier, f\"{metric.capitalize()} is\", len(result))\n"
     ]
    },
    {
     "name": "stdout",
     "output_type": "stream",
     "text": [
      "\n",
      "[epoch 24] train_loss: 0.894  val_loss: 0.821  val_accuracy: 0.722  precision: 0.582  recall: 0.722  f1: 0.639\n",
      "train epoch[25/100] loss:1.380: 100%|██████████| 115/115 [02:12<00:00,  1.15s/it]\n",
      "100%|██████████| 115/115 [00:26<00:00,  4.31it/s]"
     ]
    },
    {
     "name": "stderr",
     "output_type": "stream",
     "text": [
      "/home/santhosh/.local/lib/python3.10/site-packages/sklearn/metrics/_classification.py:1565: UndefinedMetricWarning: Precision is ill-defined and being set to 0.0 in labels with no predicted samples. Use `zero_division` parameter to control this behavior.\n",
      "  _warn_prf(average, modifier, f\"{metric.capitalize()} is\", len(result))\n"
     ]
    },
    {
     "name": "stdout",
     "output_type": "stream",
     "text": [
      "\n",
      "[epoch 25] train_loss: 0.887  val_loss: 0.837  val_accuracy: 0.721  precision: 0.580  recall: 0.721  f1: 0.637\n",
      "train epoch[26/100] loss:1.842: 100%|██████████| 115/115 [02:09<00:00,  1.13s/it]\n",
      "100%|██████████| 115/115 [00:29<00:00,  3.93it/s]"
     ]
    },
    {
     "name": "stderr",
     "output_type": "stream",
     "text": [
      "/home/santhosh/.local/lib/python3.10/site-packages/sklearn/metrics/_classification.py:1565: UndefinedMetricWarning: Precision is ill-defined and being set to 0.0 in labels with no predicted samples. Use `zero_division` parameter to control this behavior.\n",
      "  _warn_prf(average, modifier, f\"{metric.capitalize()} is\", len(result))\n"
     ]
    },
    {
     "name": "stdout",
     "output_type": "stream",
     "text": [
      "\n",
      "[epoch 26] train_loss: 0.895  val_loss: 0.809  val_accuracy: 0.722  precision: 0.587  recall: 0.722  f1: 0.640\n",
      "train epoch[27/100] loss:1.232: 100%|██████████| 115/115 [02:09<00:00,  1.13s/it]\n",
      "100%|██████████| 115/115 [00:26<00:00,  4.31it/s]"
     ]
    },
    {
     "name": "stderr",
     "output_type": "stream",
     "text": [
      "/home/santhosh/.local/lib/python3.10/site-packages/sklearn/metrics/_classification.py:1565: UndefinedMetricWarning: Precision is ill-defined and being set to 0.0 in labels with no predicted samples. Use `zero_division` parameter to control this behavior.\n",
      "  _warn_prf(average, modifier, f\"{metric.capitalize()} is\", len(result))\n"
     ]
    },
    {
     "name": "stdout",
     "output_type": "stream",
     "text": [
      "\n",
      "[epoch 27] train_loss: 0.900  val_loss: 0.811  val_accuracy: 0.722  precision: 0.586  recall: 0.722  f1: 0.640\n",
      "train epoch[28/100] loss:0.737: 100%|██████████| 115/115 [02:12<00:00,  1.15s/it]\n",
      "100%|██████████| 115/115 [00:26<00:00,  4.30it/s]"
     ]
    },
    {
     "name": "stderr",
     "output_type": "stream",
     "text": [
      "/home/santhosh/.local/lib/python3.10/site-packages/sklearn/metrics/_classification.py:1565: UndefinedMetricWarning: Precision is ill-defined and being set to 0.0 in labels with no predicted samples. Use `zero_division` parameter to control this behavior.\n",
      "  _warn_prf(average, modifier, f\"{metric.capitalize()} is\", len(result))\n"
     ]
    },
    {
     "name": "stdout",
     "output_type": "stream",
     "text": [
      "\n",
      "[epoch 28] train_loss: 0.885  val_loss: 0.821  val_accuracy: 0.722  precision: 0.583  recall: 0.722  f1: 0.639\n",
      "train epoch[29/100] loss:0.723: 100%|██████████| 115/115 [02:09<00:00,  1.13s/it]\n",
      "100%|██████████| 115/115 [00:29<00:00,  3.92it/s]"
     ]
    },
    {
     "name": "stderr",
     "output_type": "stream",
     "text": [
      "/home/santhosh/.local/lib/python3.10/site-packages/sklearn/metrics/_classification.py:1565: UndefinedMetricWarning: Precision is ill-defined and being set to 0.0 in labels with no predicted samples. Use `zero_division` parameter to control this behavior.\n",
      "  _warn_prf(average, modifier, f\"{metric.capitalize()} is\", len(result))\n"
     ]
    },
    {
     "name": "stdout",
     "output_type": "stream",
     "text": [
      "\n",
      "[epoch 29] train_loss: 0.894  val_loss: 0.817  val_accuracy: 0.722  precision: 0.586  recall: 0.722  f1: 0.640\n",
      "train epoch[30/100] loss:0.902: 100%|██████████| 115/115 [02:09<00:00,  1.13s/it]\n",
      "100%|██████████| 115/115 [00:26<00:00,  4.31it/s]\n",
      "[epoch 30] train_loss: 0.878  val_loss: 0.820  val_accuracy: 0.722  precision: 0.583  recall: 0.722  f1: 0.639\n",
      "Early stopping triggered. Stopping training.\n",
      "Finished Training\n"
     ]
    },
    {
     "name": "stderr",
     "output_type": "stream",
     "text": [
      "/home/santhosh/.local/lib/python3.10/site-packages/sklearn/metrics/_classification.py:1565: UndefinedMetricWarning: Precision is ill-defined and being set to 0.0 in labels with no predicted samples. Use `zero_division` parameter to control this behavior.\n",
      "  _warn_prf(average, modifier, f\"{metric.capitalize()} is\", len(result))\n"
     ]
    }
   ],
   "source": [
    "import os\n",
    "import sys\n",
    "import json\n",
    "\n",
    "import torch\n",
    "import torch.nn as nn\n",
    "from torchvision import transforms, datasets\n",
    "import torch.optim as optim\n",
    "from tqdm import tqdm\n",
    "from sklearn.metrics import precision_score, recall_score, f1_score\n",
    "import numpy as np \n",
    "import importlib\n",
    "import MedMamba\n",
    "\n",
    "importlib.reload(MedMamba)\n",
    "\n",
    "\n",
    "def calculate_metrics(y_true, y_pred):\n",
    "    precision = precision_score(y_true, y_pred, average='weighted')\n",
    "    recall = recall_score(y_true, y_pred, average='weighted')\n",
    "    f1 = f1_score(y_true, y_pred, average='weighted')\n",
    "    return precision, recall, f1\n",
    "\n",
    "\n",
    "def main():\n",
    "    device = torch.device(\"cuda:0\" if torch.cuda.is_available() else \"cpu\")\n",
    "    print(\"using {} device.\".format(device))\n",
    "\n",
    "    data_transform = {\n",
    "        \"train\": transforms.Compose([\n",
    "            transforms.RandomResizedCrop(224),\n",
    "            transforms.RandomHorizontalFlip(),\n",
    "            transforms.RandomRotation(15),\n",
    "            transforms.ColorJitter(brightness=0.2, contrast=0.2, saturation=0.2, hue=0.1),\n",
    "            transforms.ToTensor(),\n",
    "            transforms.Normalize((0.5, 0.5, 0.5), (0.5, 0.5, 0.5))]),\n",
    "        \"val\": transforms.Compose([\n",
    "            transforms.Resize((224, 224)),\n",
    "            transforms.ToTensor(),\n",
    "            transforms.Normalize((0.5, 0.5, 0.5), (0.5, 0.5, 0.5))])}\n",
    "\n",
    "    train_dataset = datasets.ImageFolder(root=\"/mnt/c/Users/santhosh/Downloads/MedMamba-main/MedMamba-main/colored_images\",\n",
    "                                         transform=data_transform[\"train\"])\n",
    "    train_num = len(train_dataset)\n",
    "\n",
    "    flower_list = train_dataset.class_to_idx\n",
    "    cla_dict = dict((val, key) for key, val in flower_list.items())\n",
    "    # write dict into json file\n",
    "    json_str = json.dumps(cla_dict, indent=4)\n",
    "    with open('class_indices.json', 'w') as json_file:\n",
    "        json_file.write(json_str)\n",
    "\n",
    "    batch_size = 32\n",
    "    nw = min([os.cpu_count(), batch_size if batch_size > 1 else 0, 8])  # number of workers\n",
    "    print('Using {} dataloader workers every process'.format(nw))\n",
    "\n",
    "    train_loader = torch.utils.data.DataLoader(train_dataset,\n",
    "                                               batch_size=batch_size, shuffle=True,\n",
    "                                               num_workers=nw)\n",
    "\n",
    "    validate_dataset = datasets.ImageFolder(root=\"/mnt/c/Users/santhosh/Downloads/MedMamba-main/MedMamba-main/colored_images\",\n",
    "                                            transform=data_transform[\"val\"])\n",
    "    val_num = len(validate_dataset)\n",
    "    validate_loader = torch.utils.data.DataLoader(validate_dataset,\n",
    "                                                  batch_size=batch_size, shuffle=False,\n",
    "                                                  num_workers=nw)\n",
    "    print(\"using {} images for training, {} images for validation.\".format(train_num,\n",
    "                                                                           val_num))\n",
    "\n",
    "    num_classes = len(cla_dict)\n",
    "    model_name = \"Medmamba\"\n",
    "\n",
    "    net = MedMamba.VSSM(num_classes=num_classes)\n",
    "    net.to(device)\n",
    "\n",
    "    loss_function = nn.CrossEntropyLoss()\n",
    "    optimizer = optim.Adam(net.parameters(), lr=0.0001)\n",
    "    scheduler = optim.lr_scheduler.StepLR(optimizer, step_size=10, gamma=0.1)\n",
    "\n",
    "    epochs = 100\n",
    "    best_acc = 0.0\n",
    "    save_path = './{}Net.pth'.format(model_name)\n",
    "    train_steps = len(train_loader)\n",
    "    patience = 5\n",
    "    early_stop_counter = 0\n",
    "\n",
    "    for epoch in range(epochs):\n",
    "        # Train\n",
    "        net.train()\n",
    "        running_loss = 0.0\n",
    "        train_bar = tqdm(train_loader, file=sys.stdout)\n",
    "        for step, data in enumerate(train_bar):\n",
    "            images, labels = data\n",
    "            optimizer.zero_grad()\n",
    "            outputs = net(images.to(device))\n",
    "            loss = loss_function(outputs, labels.to(device))\n",
    "            loss.backward()\n",
    "            optimizer.step()\n",
    "\n",
    "            running_loss += loss.item()\n",
    "            train_bar.desc = \"train epoch[{}/{}] loss:{:.3f}\".format(epoch + 1, epochs, loss)\n",
    "\n",
    "        # Validate\n",
    "        net.eval()\n",
    "        acc = 0.0  # accurate number / epoch\n",
    "        val_loss = 0.0\n",
    "        all_labels = []\n",
    "        all_preds = []\n",
    "\n",
    "        with torch.no_grad():\n",
    "            val_bar = tqdm(validate_loader, file=sys.stdout)\n",
    "            for val_data in val_bar:\n",
    "                val_images, val_labels = val_data\n",
    "                outputs = net(val_images.to(device))\n",
    "                loss = loss_function(outputs, val_labels.to(device))\n",
    "                val_loss += loss.item()\n",
    "                \n",
    "                predict_y = torch.max(outputs, dim=1)[1]\n",
    "                acc += torch.eq(predict_y, val_labels.to(device)).sum().item()\n",
    "\n",
    "                all_labels.extend(val_labels.cpu().numpy())\n",
    "                all_preds.extend(predict_y.cpu().numpy())\n",
    "\n",
    "        val_accurate = acc / val_num\n",
    "        val_loss /= len(validate_loader)\n",
    "        precision, recall, f1 = calculate_metrics(np.array(all_labels), np.array(all_preds))\n",
    "\n",
    "        print('[epoch %d] train_loss: %.3f  val_loss: %.3f  val_accuracy: %.3f  precision: %.3f  recall: %.3f  f1: %.3f' %\n",
    "              (epoch + 1, running_loss / train_steps, val_loss, val_accurate, precision, recall, f1))\n",
    "\n",
    "        scheduler.step()\n",
    "\n",
    "        if val_accurate > best_acc:\n",
    "            best_acc = val_accurate\n",
    "            torch.save(net.state_dict(), save_path)\n",
    "            early_stop_counter = 0\n",
    "        else:\n",
    "            early_stop_counter += 1\n",
    "\n",
    "        if early_stop_counter >= patience:\n",
    "            print(\"Early stopping triggered. Stopping training.\")\n",
    "            break\n",
    "\n",
    "    print('Finished Training')\n",
    "\n",
    "\n",
    "if __name__ == '__main__':\n",
    "    main()\n"
   ]
  },
  {
   "cell_type": "code",
   "execution_count": null,
   "metadata": {},
   "outputs": [
    {
     "name": "stdout",
     "output_type": "stream",
     "text": [
      "torch.Size([1, 6])\n",
      "using cuda:0 device.\n",
      "Using 8 dataloader workers every process\n",
      "using 3656 images for training, 3656 images for validation.\n",
      "train epoch[1/100] loss:1.377: 100%|██████████| 115/115 [04:41<00:00,  2.45s/it]\n",
      "100%|██████████| 115/115 [00:25<00:00,  4.55it/s]\n",
      "[epoch 1] train_loss: 1.151  val_accuracy: 0.633\n",
      "train epoch[2/100] loss:1.069: 100%|██████████| 115/115 [04:41<00:00,  2.45s/it]\n",
      "100%|██████████| 115/115 [00:25<00:00,  4.53it/s]\n",
      "[epoch 2] train_loss: 1.019  val_accuracy: 0.689\n",
      "train epoch[3/100] loss:1.707: 100%|██████████| 115/115 [04:39<00:00,  2.43s/it]\n",
      "100%|██████████| 115/115 [00:25<00:00,  4.53it/s]\n",
      "[epoch 3] train_loss: 0.976  val_accuracy: 0.711\n",
      "train epoch[4/100] loss:1.480: 100%|██████████| 115/115 [04:41<00:00,  2.45s/it]\n",
      "100%|██████████| 115/115 [00:25<00:00,  4.51it/s]\n",
      "[epoch 4] train_loss: 0.931  val_accuracy: 0.712\n",
      "train epoch[5/100] loss:0.433: 100%|██████████| 115/115 [04:41<00:00,  2.45s/it]\n",
      "100%|██████████| 115/115 [00:25<00:00,  4.52it/s]\n",
      "[epoch 5] train_loss: 0.892  val_accuracy: 0.679\n",
      "train epoch[6/100] loss:1.022: 100%|██████████| 115/115 [04:41<00:00,  2.45s/it]\n",
      "100%|██████████| 115/115 [00:25<00:00,  4.54it/s]\n",
      "[epoch 6] train_loss: 0.870  val_accuracy: 0.713\n",
      "train epoch[7/100] loss:1.276: 100%|██████████| 115/115 [04:39<00:00,  2.43s/it]\n",
      "100%|██████████| 115/115 [00:25<00:00,  4.53it/s]\n",
      "[epoch 7] train_loss: 0.845  val_accuracy: 0.699\n",
      "train epoch[8/100] loss:1.278: 100%|██████████| 115/115 [04:41<00:00,  2.45s/it]\n",
      "100%|██████████| 115/115 [00:25<00:00,  4.52it/s]\n",
      "[epoch 8] train_loss: 0.816  val_accuracy: 0.712\n",
      "train epoch[9/100] loss:0.600: 100%|██████████| 115/115 [04:41<00:00,  2.45s/it]\n",
      "100%|██████████| 115/115 [00:25<00:00,  4.51it/s]\n",
      "[epoch 9] train_loss: 0.814  val_accuracy: 0.717\n",
      "train epoch[10/100] loss:1.491: 100%|██████████| 115/115 [04:41<00:00,  2.45s/it]\n",
      "100%|██████████| 115/115 [00:25<00:00,  4.52it/s]\n",
      "[epoch 10] train_loss: 0.805  val_accuracy: 0.722\n",
      "train epoch[11/100] loss:0.386: 100%|██████████| 115/115 [04:38<00:00,  2.43s/it]\n",
      "100%|██████████| 115/115 [00:27<00:00,  4.12it/s]\n",
      "[epoch 11] train_loss: 0.787  val_accuracy: 0.735\n",
      "train epoch[12/100] loss:0.722: 100%|██████████| 115/115 [04:40<00:00,  2.44s/it]\n",
      "100%|██████████| 115/115 [00:25<00:00,  4.52it/s]\n",
      "[epoch 12] train_loss: 0.779  val_accuracy: 0.739\n",
      "train epoch[13/100] loss:0.455: 100%|██████████| 115/115 [04:39<00:00,  2.43s/it]\n",
      "100%|██████████| 115/115 [00:25<00:00,  4.54it/s]\n",
      "[epoch 13] train_loss: 0.766  val_accuracy: 0.736\n",
      "train epoch[14/100] loss:0.911: 100%|██████████| 115/115 [04:41<00:00,  2.45s/it]\n",
      "100%|██████████| 115/115 [00:25<00:00,  4.52it/s]\n",
      "[epoch 14] train_loss: 0.774  val_accuracy: 0.735\n",
      "train epoch[15/100] loss:0.646: 100%|██████████| 115/115 [04:41<00:00,  2.45s/it]\n",
      "100%|██████████| 115/115 [00:25<00:00,  4.52it/s]\n",
      "[epoch 15] train_loss: 0.752  val_accuracy: 0.750\n",
      "train epoch[16/100] loss:0.815: 100%|██████████| 115/115 [04:40<00:00,  2.44s/it]\n",
      "100%|██████████| 115/115 [00:25<00:00,  4.52it/s]\n",
      "[epoch 16] train_loss: 0.725  val_accuracy: 0.742\n",
      "train epoch[17/100] loss:0.592: 100%|██████████| 115/115 [04:41<00:00,  2.45s/it]\n",
      "100%|██████████| 115/115 [00:25<00:00,  4.52it/s]\n",
      "[epoch 17] train_loss: 0.750  val_accuracy: 0.753\n",
      "train epoch[18/100] loss:1.472: 100%|██████████| 115/115 [04:41<00:00,  2.45s/it]\n",
      "100%|██████████| 115/115 [00:25<00:00,  4.54it/s]\n",
      "[epoch 18] train_loss: 0.746  val_accuracy: 0.759\n",
      "train epoch[19/100] loss:0.620: 100%|██████████| 115/115 [04:39<00:00,  2.43s/it]\n",
      "100%|██████████| 115/115 [00:28<00:00,  4.11it/s]\n",
      "[epoch 19] train_loss: 0.702  val_accuracy: 0.742\n",
      "train epoch[20/100] loss:0.831: 100%|██████████| 115/115 [04:39<00:00,  2.43s/it]\n",
      "100%|██████████| 115/115 [00:25<00:00,  4.52it/s]\n",
      "[epoch 20] train_loss: 0.709  val_accuracy: 0.725\n",
      "train epoch[21/100] loss:0.613: 100%|██████████| 115/115 [04:41<00:00,  2.45s/it]\n",
      "100%|██████████| 115/115 [00:25<00:00,  4.53it/s]\n",
      "[epoch 21] train_loss: 0.694  val_accuracy: 0.760\n",
      "train epoch[22/100] loss:0.281: 100%|██████████| 115/115 [04:41<00:00,  2.45s/it]\n",
      "100%|██████████| 115/115 [00:25<00:00,  4.54it/s]\n",
      "[epoch 22] train_loss: 0.696  val_accuracy: 0.763\n",
      "train epoch[23/100] loss:0.792: 100%|██████████| 115/115 [04:39<00:00,  2.43s/it]\n",
      "100%|██████████| 115/115 [00:28<00:00,  4.10it/s]\n",
      "[epoch 23] train_loss: 0.690  val_accuracy: 0.753\n",
      "train epoch[24/100] loss:0.980: 100%|██████████| 115/115 [04:38<00:00,  2.42s/it]\n",
      "100%|██████████| 115/115 [00:25<00:00,  4.52it/s]\n",
      "[epoch 24] train_loss: 0.704  val_accuracy: 0.731\n",
      "train epoch[25/100] loss:0.934: 100%|██████████| 115/115 [04:41<00:00,  2.45s/it]\n",
      "100%|██████████| 115/115 [00:25<00:00,  4.52it/s]\n",
      "[epoch 25] train_loss: 0.675  val_accuracy: 0.772\n",
      "train epoch[26/100] loss:1.098: 100%|██████████| 115/115 [04:41<00:00,  2.45s/it]\n",
      "100%|██████████| 115/115 [00:25<00:00,  4.53it/s]\n",
      "[epoch 26] train_loss: 0.680  val_accuracy: 0.773\n",
      "train epoch[27/100] loss:0.609: 100%|██████████| 115/115 [04:40<00:00,  2.44s/it]\n",
      "100%|██████████| 115/115 [00:25<00:00,  4.54it/s]\n",
      "[epoch 27] train_loss: 0.661  val_accuracy: 0.770\n",
      "train epoch[28/100] loss:0.450: 100%|██████████| 115/115 [04:41<00:00,  2.45s/it]\n",
      "100%|██████████| 115/115 [00:25<00:00,  4.52it/s]\n",
      "[epoch 28] train_loss: 0.652  val_accuracy: 0.785\n",
      "train epoch[29/100] loss:0.917: 100%|██████████| 115/115 [04:41<00:00,  2.45s/it]\n",
      "100%|██████████| 115/115 [00:25<00:00,  4.50it/s]\n",
      "[epoch 29] train_loss: 0.648  val_accuracy: 0.783\n",
      "train epoch[30/100] loss:0.489: 100%|██████████| 115/115 [04:38<00:00,  2.42s/it]\n",
      "100%|██████████| 115/115 [00:25<00:00,  4.52it/s]\n",
      "[epoch 30] train_loss: 0.650  val_accuracy: 0.739\n",
      "train epoch[31/100] loss:0.494: 100%|██████████| 115/115 [04:41<00:00,  2.45s/it]\n",
      "100%|██████████| 115/115 [00:25<00:00,  4.52it/s]\n",
      "[epoch 31] train_loss: 0.651  val_accuracy: 0.785\n",
      "train epoch[32/100] loss:0.685: 100%|██████████| 115/115 [04:41<00:00,  2.45s/it]\n",
      "100%|██████████| 115/115 [00:25<00:00,  4.53it/s]\n",
      "[epoch 32] train_loss: 0.630  val_accuracy: 0.789\n",
      "train epoch[33/100] loss:0.651: 100%|██████████| 115/115 [04:41<00:00,  2.45s/it]\n",
      "100%|██████████| 115/115 [00:25<00:00,  4.53it/s]\n",
      "[epoch 33] train_loss: 0.635  val_accuracy: 0.773\n",
      "train epoch[34/100] loss:0.711: 100%|██████████| 115/115 [04:38<00:00,  2.42s/it]\n",
      "100%|██████████| 115/115 [00:27<00:00,  4.12it/s]\n",
      "[epoch 34] train_loss: 0.624  val_accuracy: 0.795\n",
      "train epoch[35/100] loss:0.890: 100%|██████████| 115/115 [04:38<00:00,  2.43s/it]\n",
      "100%|██████████| 115/115 [00:25<00:00,  4.52it/s]\n",
      "[epoch 35] train_loss: 0.627  val_accuracy: 0.742\n",
      "train epoch[36/100] loss:0.587: 100%|██████████| 115/115 [04:41<00:00,  2.45s/it]\n",
      "100%|██████████| 115/115 [00:25<00:00,  4.51it/s]\n",
      "[epoch 36] train_loss: 0.618  val_accuracy: 0.769\n",
      "train epoch[37/100] loss:0.644: 100%|██████████| 115/115 [04:41<00:00,  2.45s/it]\n",
      "100%|██████████| 115/115 [00:25<00:00,  4.52it/s]\n",
      "[epoch 37] train_loss: 0.625  val_accuracy: 0.792\n",
      "train epoch[38/100] loss:0.830: 100%|██████████| 115/115 [04:41<00:00,  2.45s/it]\n",
      "100%|██████████| 115/115 [00:25<00:00,  4.54it/s]\n",
      "[epoch 38] train_loss: 0.628  val_accuracy: 0.801\n",
      "train epoch[39/100] loss:0.487: 100%|██████████| 115/115 [04:38<00:00,  2.43s/it]\n",
      "100%|██████████| 115/115 [00:25<00:00,  4.53it/s]\n",
      "[epoch 39] train_loss: 0.607  val_accuracy: 0.803\n",
      "train epoch[40/100] loss:0.430: 100%|██████████| 115/115 [04:41<00:00,  2.45s/it]\n",
      "100%|██████████| 115/115 [00:25<00:00,  4.51it/s]\n",
      "[epoch 40] train_loss: 0.599  val_accuracy: 0.806\n",
      "train epoch[41/100] loss:1.053: 100%|██████████| 115/115 [04:41<00:00,  2.45s/it]\n",
      "100%|██████████| 115/115 [00:25<00:00,  4.52it/s]\n",
      "[epoch 41] train_loss: 0.616  val_accuracy: 0.804\n",
      "train epoch[42/100] loss:0.572: 100%|██████████| 115/115 [04:41<00:00,  2.45s/it]\n",
      "100%|██████████| 115/115 [00:25<00:00,  4.53it/s]\n",
      "[epoch 42] train_loss: 0.597  val_accuracy: 0.799\n",
      "train epoch[43/100] loss:1.428: 100%|██████████| 115/115 [04:39<00:00,  2.43s/it]\n",
      "100%|██████████| 115/115 [00:27<00:00,  4.12it/s]\n",
      "[epoch 43] train_loss: 0.607  val_accuracy: 0.810\n",
      "train epoch[44/100] loss:0.427: 100%|██████████| 115/115 [04:40<00:00,  2.44s/it]\n",
      "100%|██████████| 115/115 [00:25<00:00,  4.53it/s]\n",
      "[epoch 44] train_loss: 0.607  val_accuracy: 0.807\n",
      "train epoch[45/100] loss:0.601: 100%|██████████| 115/115 [04:40<00:00,  2.44s/it]\n",
      "100%|██████████| 115/115 [00:25<00:00,  4.52it/s]\n",
      "[epoch 45] train_loss: 0.587  val_accuracy: 0.807\n",
      "train epoch[46/100] loss:0.269: 100%|██████████| 115/115 [04:41<00:00,  2.45s/it]\n",
      "100%|██████████| 115/115 [00:25<00:00,  4.52it/s]\n",
      "[epoch 46] train_loss: 0.585  val_accuracy: 0.800\n",
      "train epoch[47/100] loss:0.821: 100%|██████████| 115/115 [04:39<00:00,  2.43s/it]\n",
      "100%|██████████| 115/115 [00:28<00:00,  4.10it/s]\n",
      "[epoch 47] train_loss: 0.572  val_accuracy: 0.822\n",
      "train epoch[48/100] loss:0.550: 100%|██████████| 115/115 [04:39<00:00,  2.43s/it]\n",
      "100%|██████████| 115/115 [00:25<00:00,  4.52it/s]\n",
      "[epoch 48] train_loss: 0.570  val_accuracy: 0.808\n",
      "train epoch[49/100] loss:0.733: 100%|██████████| 115/115 [04:41<00:00,  2.45s/it]\n",
      "100%|██████████| 115/115 [00:25<00:00,  4.53it/s]\n",
      "[epoch 49] train_loss: 0.577  val_accuracy: 0.833\n",
      "train epoch[50/100] loss:0.280: 100%|██████████| 115/115 [04:41<00:00,  2.45s/it]\n",
      "100%|██████████| 115/115 [00:25<00:00,  4.51it/s]\n",
      "[epoch 50] train_loss: 0.597  val_accuracy: 0.804\n",
      "train epoch[51/100] loss:1.208: 100%|██████████| 115/115 [04:39<00:00,  2.43s/it]\n",
      "100%|██████████| 115/115 [00:27<00:00,  4.11it/s]\n",
      "[epoch 51] train_loss: 0.573  val_accuracy: 0.806\n",
      "train epoch[52/100] loss:0.865: 100%|██████████| 115/115 [04:39<00:00,  2.43s/it]\n",
      "100%|██████████| 115/115 [00:25<00:00,  4.51it/s]\n",
      "[epoch 52] train_loss: 0.577  val_accuracy: 0.789\n",
      "train epoch[53/100] loss:0.640: 100%|██████████| 115/115 [04:42<00:00,  2.46s/it]\n",
      "100%|██████████| 115/115 [00:25<00:00,  4.51it/s]\n",
      "[epoch 53] train_loss: 0.575  val_accuracy: 0.820\n",
      "train epoch[54/100] loss:0.897: 100%|██████████| 115/115 [04:42<00:00,  2.45s/it]\n",
      "100%|██████████| 115/115 [00:25<00:00,  4.52it/s]\n",
      "[epoch 54] train_loss: 0.567  val_accuracy: 0.831\n",
      "Early stopping triggered. Stopping training.\n",
      "Finished Training\n"
     ]
    }
   ],
   "source": [
    "import os\n",
    "import sys\n",
    "import json\n",
    "\n",
    "import torch\n",
    "import torch.nn as nn\n",
    "from torchvision import transforms, datasets\n",
    "import torch.optim as optim\n",
    "from tqdm import tqdm\n",
    "import importlib\n",
    "import MedMamba  # import model\n",
    "importlib.reload(MedMamba)\n",
    "\n",
    "def main():\n",
    "    device = torch.device(\"cuda:0\" if torch.cuda.is_available() else \"cpu\")\n",
    "    print(\"using {} device.\".format(device))\n",
    "\n",
    "    data_transform = {\n",
    "        \"train\": transforms.Compose([transforms.RandomResizedCrop(224),\n",
    "                                     transforms.RandomHorizontalFlip(),\n",
    "                                     transforms.ToTensor(),\n",
    "                                     transforms.Normalize((0.5, 0.5, 0.5), (0.5, 0.5, 0.5))]),\n",
    "        \"val\": transforms.Compose([transforms.Resize((224, 224)),\n",
    "                                   transforms.ToTensor(),\n",
    "                                   transforms.Normalize((0.5, 0.5, 0.5), (0.5, 0.5, 0.5))])}\n",
    "\n",
    "    train_dataset = datasets.ImageFolder(root=\"/mnt/c/Users/santhosh/Downloads/MedMamba-main/MedMamba-main/colored_images\",\n",
    "                                         transform=data_transform[\"train\"])\n",
    "    train_num = len(train_dataset)\n",
    "\n",
    "    flower_list = train_dataset.class_to_idx\n",
    "    cla_dict = dict((val, key) for key, val in flower_list.items())\n",
    "    # write dict into json file\n",
    "    json_str = json.dumps(cla_dict, indent=4)\n",
    "    with open('class_indices.json', 'w') as json_file:\n",
    "        json_file.write(json_str)\n",
    "\n",
    "    batch_size = 32\n",
    "    nw = min([os.cpu_count(), batch_size if batch_size > 1 else 0, 8])  # number of workers\n",
    "    print('Using {} dataloader workers every process'.format(nw))\n",
    "\n",
    "    train_loader = torch.utils.data.DataLoader(train_dataset,\n",
    "                                               batch_size=batch_size, shuffle=True,\n",
    "                                               num_workers=nw)\n",
    "\n",
    "    validate_dataset = datasets.ImageFolder(root=\"/mnt/c/Users/santhosh/Downloads/MedMamba-main/MedMamba-main/colored_images\",\n",
    "                                            transform=data_transform[\"val\"])\n",
    "    val_num = len(validate_dataset)\n",
    "    validate_loader = torch.utils.data.DataLoader(validate_dataset,\n",
    "                                                  batch_size=batch_size, shuffle=False,\n",
    "                                                  num_workers=nw)\n",
    "    print(\"using {} images for training, {} images for validation.\".format(train_num,\n",
    "                                                                           val_num))\n",
    "\n",
    "\n",
    "    net = MedMamba.VSSM(num_classes=5)\n",
    "    net.to(device)\n",
    "    loss_function = nn.CrossEntropyLoss()\n",
    "    optimizer = optim.Adam(net.parameters(), lr=0.0001)\n",
    "\n",
    "    epochs = 100\n",
    "    best_acc = 0.0\n",
    "    save_path = './{}Net.pth'.format(\"MedmambaNet1\")\n",
    "    train_steps = len(train_loader)\n",
    "    for epoch in range(epochs):\n",
    "\n",
    "        \n",
    "\n",
    "        # train\n",
    "        net.train()\n",
    "        running_loss = 0.0\n",
    "        train_bar = tqdm(train_loader, file=sys.stdout)\n",
    "        for step, data in enumerate(train_bar):\n",
    "            images, labels = data\n",
    "            optimizer.zero_grad()\n",
    "            outputs = net(images.to(device))\n",
    "            loss = loss_function(outputs, labels.to(device))\n",
    "            loss.backward()\n",
    "            optimizer.step()\n",
    "\n",
    "            # print statistics\n",
    "            running_loss += loss.item()\n",
    "\n",
    "            train_bar.desc = \"train epoch[{}/{}] loss:{:.3f}\".format(epoch + 1,\n",
    "                                                                     epochs,\n",
    "                                                                     loss)\n",
    "\n",
    "        # validate\n",
    "        net.eval()\n",
    "        acc = 0.0  # accumulate accurate number / epoch\n",
    "        with torch.no_grad():\n",
    "            val_bar = tqdm(validate_loader, file=sys.stdout)\n",
    "            for val_data in val_bar:\n",
    "                val_images, val_labels = val_data\n",
    "                outputs = net(val_images.to(device))\n",
    "                predict_y = torch.max(outputs, dim=1)[1]\n",
    "                acc += torch.eq(predict_y, val_labels.to(device)).sum().item()\n",
    "\n",
    "        val_accurate = acc / val_num\n",
    "        print('[epoch %d] train_loss: %.3f  val_accuracy: %.3f' %\n",
    "              (epoch + 1, running_loss / train_steps, val_accurate))\n",
    "\n",
    "        patience=5\n",
    "        if val_accurate > best_acc:\n",
    "            best_acc = val_accurate\n",
    "            torch.save(net.state_dict(), save_path)\n",
    "            early_stop_counter = 0\n",
    "        else:\n",
    "            early_stop_counter += 1\n",
    "\n",
    "        if early_stop_counter >= patience:\n",
    "            print(\"Early stopping triggered. Stopping training.\")\n",
    "            break\n",
    "\n",
    "\n",
    "    print('Finished Training')\n",
    "\n",
    "\n",
    "if __name__ == '__main__':\n",
    "    main()\n"
   ]
  },
  {
   "cell_type": "code",
   "execution_count": 27,
   "metadata": {},
   "outputs": [],
   "source": [
    "import torch\n",
    "from sklearn.metrics import precision_score, recall_score, f1_score\n",
    "from torchvision import transforms, datasets\n",
    "import MedMamba  # Import your model class\n",
    "\n",
    "# Define device\n",
    "device = torch.device(\"cuda:0\" if torch.cuda.is_available() else \"cpu\")\n",
    "\n",
    "# Load the saved model\n",
    "model = MedMamba.VSSM(num_classes=5)  # Replace with your model class\n",
    "model.load_state_dict(torch.load(\"/mnt/c/Users/santhosh/Downloads/MedMamba-main/MedMamba-main/MedMambagit/MedmambaNet1Net.pth\"))\n",
    "model.to(device)\n",
    "model.eval()\n",
    "\n",
    "from torchvision import transforms, datasets\n",
    "\n",
    "data_transform = transforms.Compose([\n",
    "    transforms.Resize((224, 224)),\n",
    "    transforms.ToTensor(),\n",
    "    transforms.Normalize((0.5, 0.5, 0.5), (0.5, 0.5, 0.5))\n",
    "])\n",
    "\n",
    "# Load test dataset\n",
    "test_dataset = datasets.ImageFolder(root=\"/mnt/c/Users/santhosh/Downloads/MedMamba-main/MedMamba-main/colored_images\", transform=data_transform)\n",
    "test_loader = torch.utils.data.DataLoader(test_dataset, batch_size=32, shuffle=False)\n",
    "\n",
    "# Get the number of classes\n",
    "num_classes = len(test_dataset.classes)\n",
    "class_names = test_dataset.classes\n"
   ]
  },
  {
   "cell_type": "code",
   "execution_count": 28,
   "metadata": {},
   "outputs": [
    {
     "name": "stdout",
     "output_type": "stream",
     "text": [
      "Test Loss: 0.4758\n",
      "Test Accuracy: 83.29%\n",
      "Precision (per class): [0.66666667 0.72226999 0.95018747 0.72897196 0.67088608]\n",
      "Recall (per class): [0.60989011 0.84084084 0.98282548 0.52881356 0.2746114 ]\n",
      "F1-score (per class): [0.63701578 0.77705828 0.96623094 0.6129666  0.38970588]\n",
      "Precision (macro): 0.7478\n",
      "Recall (macro): 0.6474\n",
      "F1-score (macro): 0.6766\n"
     ]
    }
   ],
   "source": [
    "import numpy as np\n",
    "\n",
    "# Initialize metrics\n",
    "all_labels = []\n",
    "all_preds = []\n",
    "total_loss = 0.0\n",
    "loss_function = torch.nn.CrossEntropyLoss()\n",
    "\n",
    "with torch.no_grad():\n",
    "    for images, labels in test_loader:\n",
    "        images, labels = images.to(device), labels.to(device)\n",
    "        outputs = model(images)\n",
    "\n",
    "        # Compute loss\n",
    "        loss = loss_function(outputs, labels)\n",
    "        total_loss += loss.item()\n",
    "\n",
    "        # Get predictions\n",
    "        preds = torch.max(outputs, dim=1)[1]\n",
    "        all_preds.extend(preds.cpu().numpy())\n",
    "        all_labels.extend(labels.cpu().numpy())\n",
    "\n",
    "# Convert to numpy arrays\n",
    "all_labels = np.array(all_labels)\n",
    "all_preds = np.array(all_preds)\n",
    "\n",
    "# Compute accuracy\n",
    "accuracy = np.mean(all_preds == all_labels)\n",
    "\n",
    "# Compute precision, recall, F1-score for each class\n",
    "precision = precision_score(all_labels, all_preds, average=None, labels=range(num_classes))\n",
    "recall = recall_score(all_labels, all_preds, average=None, labels=range(num_classes))\n",
    "f1 = f1_score(all_labels, all_preds, average=None, labels=range(num_classes))\n",
    "\n",
    "# Compute overall metrics (macro-average)\n",
    "precision_macro = precision_score(all_labels, all_preds, average='macro')\n",
    "recall_macro = recall_score(all_labels, all_preds, average='macro')\n",
    "f1_macro = f1_score(all_labels, all_preds, average='macro')\n",
    "\n",
    "print(f\"Test Loss: {total_loss / len(test_loader):.4f}\")\n",
    "print(f\"Test Accuracy: {accuracy * 100:.2f}%\")\n",
    "print(f\"Precision (per class): {precision}\")\n",
    "print(f\"Recall (per class): {recall}\")\n",
    "print(f\"F1-score (per class): {f1}\")\n",
    "print(f\"Precision (macro): {precision_macro:.4f}\")\n",
    "print(f\"Recall (macro): {recall_macro:.4f}\")\n",
    "print(f\"F1-score (macro): {f1_macro:.4f}\")\n"
   ]
  },
  {
   "cell_type": "code",
   "execution_count": null,
   "metadata": {},
   "outputs": [],
   "source": []
  }
 ],
 "metadata": {
  "kernelspec": {
   "display_name": "Python 3",
   "language": "python",
   "name": "python3"
  },
  "language_info": {
   "codemirror_mode": {
    "name": "ipython",
    "version": 3
   },
   "file_extension": ".py",
   "mimetype": "text/x-python",
   "name": "python",
   "nbconvert_exporter": "python",
   "pygments_lexer": "ipython3",
   "version": "3.10.16"
  }
 },
 "nbformat": 4,
 "nbformat_minor": 2
}
